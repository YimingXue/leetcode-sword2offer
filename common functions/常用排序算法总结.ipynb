{
 "cells": [
  {
   "cell_type": "markdown",
   "metadata": {},
   "source": [
    "# 常用排序算法总结\n",
    "- 主要介绍冒泡排序、选择排序、插入排序、希尔排序、归并排序、快速排序的思想，并且用python实现。\n",
    "- 新添计数排序（桶排序）、基数排序和堆排序"
   ]
  },
  {
   "cell_type": "code",
   "execution_count": 1,
   "metadata": {},
   "outputs": [],
   "source": [
    "# 生成随机数列\n",
    "from random import randint\n",
    "def generateRandomArray(n, min, max):\n",
    "    arr = []\n",
    "    arr = [randint(min, max) for x in range(n)]\n",
    "    return arr"
   ]
  },
  {
   "cell_type": "markdown",
   "metadata": {},
   "source": [
    "### 冒泡排序\n",
    "- 冒泡排序要对一个列表多次重复遍历，比较相邻的两项并且交换排序错误的项。每遍历一次都会有一个最大项排在正确的位置。\n",
    "- 冒泡排序常被认为是最低效的排序方法，但是因为它需要遍历整个未排好的部分，它可以做到一些大多数排序方法做不到的事情。尤其是如果在一次遍历排序过程中没有交换数据项，则可以直接判定列表已经排好，根据这点可以对冒泡排序进行改进，增加exchangeFlag判断。"
   ]
  },
  {
   "cell_type": "code",
   "execution_count": 2,
   "metadata": {},
   "outputs": [],
   "source": [
    "def bubbleSort(alist):\n",
    "    for i in range(len(alist)-1, 0, -1):\n",
    "        exchangeFlag = False\n",
    "        for j in range(i):\n",
    "            if alist[j+1] < alist[j]:\n",
    "                alist[j], alist[j+1] = alist[j+1], alist[j]\n",
    "                exchangeFlag = True\n",
    "        if exchangeFlag == False:\n",
    "            break\n",
    "    return alist"
   ]
  },
  {
   "cell_type": "markdown",
   "metadata": {},
   "source": [
    "### 选择排序\n",
    "- 选择排序提升了冒泡排序的性能，它每遍历一次列表只交换一次数据，即进行一次遍历时找到最大的项，完成遍历后再把它换到正确的位置。"
   ]
  },
  {
   "cell_type": "code",
   "execution_count": 3,
   "metadata": {},
   "outputs": [],
   "source": [
    "def selectSort(alist):\n",
    "    for i in range(len(alist)-1, 0, -1):\n",
    "        maxIndex = i\n",
    "        for j in range(i):\n",
    "            if alist[j] > alist[maxIndex]:\n",
    "                maxIndex = j\n",
    "        alist[maxIndex], alist[i] = alist[i], alist[maxIndex]\n",
    "    return alist"
   ]
  },
  {
   "cell_type": "markdown",
   "metadata": {},
   "source": [
    "### 插入排序\n",
    "插入排序的算法复杂度仍是$O(n^2)$，但是工作原理稍有不同：它总是保持一个位置靠前的已排好的子表，然后每一个新数据被“插入”到前面的子表里。"
   ]
  },
  {
   "cell_type": "code",
   "execution_count": 4,
   "metadata": {},
   "outputs": [],
   "source": [
    "def insertSort(alist):\n",
    "    for i in range(1, len(alist)):\n",
    "        currentValue = alist[i]\n",
    "        position = i\n",
    "        while alist[position-1] > currentValue and position > 0:\n",
    "            alist[position] = alist[position-1]\n",
    "            position -= 1\n",
    "        alist[position] = currentValue\n",
    "    return alist"
   ]
  },
  {
   "cell_type": "markdown",
   "metadata": {},
   "source": [
    "### 希尔排序\n",
    "- 希尔排序有时又叫做“缩小间隔排序”，它以插入排序为基础，将原来要排序的列表划分成一些子列表，再对每一个子列表执行插入排序，从而实现对插入排序性能的改进。"
   ]
  },
  {
   "cell_type": "code",
   "execution_count": 5,
   "metadata": {},
   "outputs": [],
   "source": [
    "def shellSort(alist):\n",
    "    gap = len(alist) // 2\n",
    "    while gap > 0:\n",
    "        for i in range(gap):\n",
    "            gapInsertSort(alist, i, gap)\n",
    "        gap = gap // 2\n",
    "    return alist\n",
    "\n",
    "def gapInsertSort(alist, startpos, gap):\n",
    "    for i in range(startpos+gap, len(alist), gap):\n",
    "        currentValue = alist[i]\n",
    "        position = i\n",
    "        while alist[position-gap] > currentValue and position > startpos:\n",
    "            alist[position] = alist[position-gap]\n",
    "            position = position - gap\n",
    "        alist[position] = currentValue\n",
    "    return "
   ]
  },
  {
   "cell_type": "markdown",
   "metadata": {},
   "source": [
    "### 归并排序\n",
    "- 归并排序是一种递归算法，它持续地将一个列表分成两半。如果列表为空或者只有一个元素，那么根据定义，它就被排序好了。如果列表里的元素超过一个就把列表拆分，然后分别对两个部分调用归并排序。一旦这两个部分被排序好了，然后就可以对这两部分数列进行归并。\n",
    "- 归并思想：把两个排序好了的列表结合在一起组成一个单一的有序的新列表。"
   ]
  },
  {
   "cell_type": "code",
   "execution_count": 6,
   "metadata": {},
   "outputs": [],
   "source": [
    "def merge(alist, blist):\n",
    "    clist = list()\n",
    "    a = b = 0\n",
    "    while a < len(alist) and b < len(blist):\n",
    "        if alist[a] < blist[b]:\n",
    "            clist.append(alist[a])\n",
    "            a += 1\n",
    "        else:\n",
    "            clist.append(blist[b])\n",
    "            b += 1\n",
    "    if a == len(alist):\n",
    "        for item in blist[b:]:\n",
    "            clist.append(item)\n",
    "    else:\n",
    "        for item in alist[a:]:\n",
    "            clist.append(item)\n",
    "    return clist\n",
    "\n",
    "def mergeSort(alist):\n",
    "    if len(alist) <= 1:\n",
    "        return alist\n",
    "    \n",
    "    part = len(alist) // 2\n",
    "    left = mergeSort(alist[:part])\n",
    "    right = mergeSort(alist[part:])\n",
    "    return merge(left, right)"
   ]
  },
  {
   "cell_type": "markdown",
   "metadata": {},
   "source": [
    "### 快速排序\n",
    "- 通过一趟排序将要排序的数据分割成独立的两部分，其中一部分的所有数据都比另一部分的所有数据要小，然后再按照此方法对这两部分数据分别进行快速排序，整个排序过程可以递归地进行，以此达到整个数据变成有序序列。"
   ]
  },
  {
   "cell_type": "code",
   "execution_count": 7,
   "metadata": {},
   "outputs": [],
   "source": [
    "def partition(alist, left , right):\n",
    "    key = alist[left]\n",
    "    low = left\n",
    "    high = right\n",
    "    while low < high:\n",
    "        while low < high and alist[high] >= key:\n",
    "            high -= 1\n",
    "        alist[low] = alist[high]\n",
    "        while low < high and alist[low] <= key:\n",
    "            low += 1\n",
    "        alist[high] = alist[low]\n",
    "        alist[low] = key\n",
    "    return low\n",
    "\n",
    "def quickSort(alist, left, right):\n",
    "    if left < right:\n",
    "        part = partition(alist, left, right)\n",
    "        quickSort(alist, left, part-1)\n",
    "        quickSort(alist, part+1, right)\n",
    "    return alist"
   ]
  },
  {
   "cell_type": "markdown",
   "metadata": {},
   "source": [
    "### 计数排序\n",
    "- 对每一个输入元素a[i]，确定小于等于a[i]的元素个数。所以可以直接把a[i]放到它输出数组中的位置上。\n",
    "- 算法步骤如下：\n",
    "  - 找出待排序的数组中最大和最小的元素\n",
    "  - 统计待排数组中每个元素item出现的次数，并存在clist数组中第item个位置上\n",
    "  - 对clist中的所有计数累加，计算小于或等于每个元素的元素个数\n",
    "  - 反向填充目标数组，将alist中每个元素放在blist对应的位置上"
   ]
  },
  {
   "cell_type": "code",
   "execution_count": 8,
   "metadata": {},
   "outputs": [],
   "source": [
    "def countSort(alist, k): # k是数组alist中最大的元素\n",
    "    # 数组alist长度\n",
    "    a_len = len(alist)\n",
    "    # 输出数组\n",
    "    blist = [0 for i in range(a_len)]\n",
    "    # 临时数组，最大下标为k\n",
    "    clist = [0 for i in range(k+1)]\n",
    "    \n",
    "    # 在clist中统计每个元素出现的次数\n",
    "    for i in range(a_len):\n",
    "        clist[alist[i]] += 1\n",
    "    # 统计每一个元素小于或者等于它的元素个数，从第1个开始\n",
    "    for i in range(1, len(clist)):\n",
    "        clist[i] += clist[i-1]\n",
    "    # 遍历alist中每个元素，放到blist对应的位置上\n",
    "    for i in range(a_len):\n",
    "        # clist(alist[i])是小于或等于该元素的元素个数，在blist中下标应该要减1\n",
    "        blist[clist[alist[i]] - 1] = alist[i]\n",
    "        # 更新clist中的数量\n",
    "        clist[alist[i]] -= 1\n",
    "    \n",
    "    return blist"
   ]
  },
  {
   "cell_type": "markdown",
   "metadata": {},
   "source": [
    "### 堆排序\n",
    "- 使用堆的方式来对数组进行排序\n",
    "  - 将要进行排序的数据构造成一个最大堆\n",
    "  - 选择该最大堆的根节点（最大值），与最下最右的叶子节点进行交换，并排除该叶子节点对剩下的堆重新构造成最大堆\n",
    "  - 重复第二步直至最大堆长度为1，完成排序"
   ]
  },
  {
   "cell_type": "code",
   "execution_count": 28,
   "metadata": {},
   "outputs": [],
   "source": [
    "from collections import deque\n",
    "\n",
    "def heapSort(alist):\n",
    "    aheap = deque(alist)\n",
    "    aheap.appendleft(0)\n",
    "    \n",
    "    len_aheap = len(aheap)-1\n",
    "    first_sort_count = len_aheap // 2\n",
    "    \n",
    "    for i in range(first_sort_count):\n",
    "        heap_adjust(aheap, first_sort_count-i, len_aheap)\n",
    "    \n",
    "    for i in range(len_aheap-1):\n",
    "        swap_params(aheap, 1, len_aheap-i)\n",
    "        heap_adjust(aheap, 1, len_aheap-i-1)\n",
    "    \n",
    "    return [aheap[i] for i in range(1, len(aheap))]\n",
    "\n",
    "def heap_adjust(aheap, start, end):\n",
    "    temp = aheap[start]\n",
    "    \n",
    "    i = start\n",
    "    j = 2 * i\n",
    "    \n",
    "    while j <= end:\n",
    "        if j < end and aheap[j] < aheap[j+1]:\n",
    "            j += 1\n",
    "        if temp < aheap[j]:\n",
    "            aheap[i] = aheap[j]\n",
    "            i = j\n",
    "            j = 2 * i\n",
    "        else:\n",
    "            break\n",
    "    aheap[i] = temp\n",
    "    return aheap\n",
    "\n",
    "def swap_params(aheap, start, end):\n",
    "    aheap[start], aheap[end] = aheap[end], aheap[start]\n",
    "    return aheap"
   ]
  },
  {
   "cell_type": "markdown",
   "metadata": {},
   "source": [
    "### 基数排序\n",
    "- 对待排序的数组首先按照最低位进行排序，然后由低位向高位进行"
   ]
  },
  {
   "cell_type": "code",
   "execution_count": 36,
   "metadata": {},
   "outputs": [],
   "source": [
    "def radixSort(alist, d):\n",
    "    for i in range(d):\n",
    "        s = [[] for _ in range(10)]\n",
    "        for item in alist:\n",
    "            s[item/(10**i)%10].append(item)\n",
    "        res = [a for b in s for a in b]\n",
    "    return res"
   ]
  },
  {
   "cell_type": "code",
   "execution_count": 37,
   "metadata": {
    "scrolled": false
   },
   "outputs": [
    {
     "name": "stdout",
     "output_type": "stream",
     "text": [
      "原始列表: \n",
      "[6, 17, 29, 2, 26, 32, 31, 3, 3, 35]\n",
      "\n",
      "\n",
      "冒泡排序结果: \n",
      "[2, 3, 3, 6, 17, 26, 29, 31, 32, 35]\n",
      "\n",
      "\n",
      "选择排序结果: \n",
      "[2, 3, 3, 6, 17, 26, 29, 31, 32, 35]\n",
      "\n",
      "\n",
      "插入排序结果: \n",
      "[2, 3, 3, 6, 17, 26, 29, 31, 32, 35]\n",
      "\n",
      "\n",
      "希尔排序结果: \n",
      "[2, 3, 3, 6, 17, 26, 29, 31, 32, 35]\n",
      "\n",
      "\n",
      "归并排序结果: \n",
      "[2, 3, 3, 6, 17, 26, 29, 31, 32, 35]\n",
      "\n",
      "\n",
      "快速排序结果: \n",
      "[2, 3, 3, 6, 17, 26, 29, 31, 32, 35]\n",
      "\n",
      "\n",
      "计数排序结果: \n",
      "[2, 3, 3, 6, 17, 26, 29, 31, 32, 35]\n",
      "\n",
      "\n",
      "堆排序结果: \n",
      "[2, 3, 3, 6, 17, 26, 29, 31, 32, 35]\n",
      "\n",
      "\n",
      "基数排序结果: \n",
      "[2, 3, 3, 6, 17, 26, 29, 31, 32, 35]\n",
      "\n",
      "\n"
     ]
    }
   ],
   "source": [
    "if __name__ == \"__main__\":\n",
    "    arr = generateRandomArray(10, 0, 50)\n",
    "    print('原始列表: ')\n",
    "    print(arr)\n",
    "    print('\\n')\n",
    "    \n",
    "    bubbleArr = bubbleSort(arr)\n",
    "    print('冒泡排序结果: ')\n",
    "    print(bubbleArr)\n",
    "    print('\\n')\n",
    "    \n",
    "    selectArr = selectSort(arr)\n",
    "    print('选择排序结果: ')\n",
    "    print(selectArr)\n",
    "    print('\\n')\n",
    "    \n",
    "    insertArr = insertSort(arr)\n",
    "    print('插入排序结果: ')\n",
    "    print(insertArr)\n",
    "    print('\\n')\n",
    "    \n",
    "    shellArr = shellSort(arr)\n",
    "    print('希尔排序结果: ')\n",
    "    print(shellArr)\n",
    "    print('\\n')\n",
    "    \n",
    "    mergeArr = mergeSort(arr)\n",
    "    print('归并排序结果: ')\n",
    "    print(mergeArr)\n",
    "    print('\\n')\n",
    "    \n",
    "    quickArr = quickSort(arr, 0, len(arr)-1)\n",
    "    print('快速排序结果: ')\n",
    "    print(quickArr)\n",
    "    print('\\n')\n",
    "    \n",
    "    countArr = countSort(arr, max(arr))\n",
    "    print('计数排序结果: ')\n",
    "    print(countArr)\n",
    "    print('\\n')\n",
    "    \n",
    "    heapArr = heapSort(arr)\n",
    "    print('堆排序结果: ')\n",
    "    print(heapArr)\n",
    "    print('\\n')\n",
    "    \n",
    "    radixArr = radixSort(arr, 2)\n",
    "    print('基数排序结果: ')\n",
    "    print(radixArr)\n",
    "    print('\\n')"
   ]
  },
  {
   "cell_type": "markdown",
   "metadata": {},
   "source": [
    "### 参考资料\n",
    "- [常用的排序算法总结](https://zhuanlan.zhihu.com/p/40695917)"
   ]
  },
  {
   "cell_type": "code",
   "execution_count": null,
   "metadata": {},
   "outputs": [],
   "source": []
  }
 ],
 "metadata": {
  "kernelspec": {
   "display_name": "Python 2",
   "language": "python",
   "name": "python2"
  },
  "language_info": {
   "codemirror_mode": {
    "name": "ipython",
    "version": 2
   },
   "file_extension": ".py",
   "mimetype": "text/x-python",
   "name": "python",
   "nbconvert_exporter": "python",
   "pygments_lexer": "ipython2",
   "version": "2.7.15"
  }
 },
 "nbformat": 4,
 "nbformat_minor": 2
}
