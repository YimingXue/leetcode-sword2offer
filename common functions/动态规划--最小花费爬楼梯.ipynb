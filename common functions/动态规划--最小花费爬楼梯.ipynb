{
 "cells": [
  {
   "cell_type": "markdown",
   "metadata": {},
   "source": [
    "# 746. 使用最小花费爬楼梯\n",
    "数组的每个索引做为一个阶梯，第 `i`个阶梯对应着一个非负数的体力花费值 `cost[i]`(索引从0开始)。\n",
    "\n",
    "每当你爬上一个阶梯你都要花费对应的体力花费值，然后你可以选择继续爬一个阶梯或者爬两个阶梯。\n",
    "\n",
    "您需要找到达到楼层顶部的最低花费。在开始时，你可以选择从索引为 0 或 1 的元素作为初始阶梯。\n",
    "\n",
    "**示例 1:**\n",
    "\n",
    "```\n",
    "输入: cost = [10, 15, 20]\n",
    "输出: 15\n",
    "解释: 最低花费是从cost[1]开始，然后走两步即可到阶梯顶，一共花费15。\n",
    "```\n",
    "\n",
    " **示例 2:**\n",
    "\n",
    "```\n",
    "输入: cost = [1, 100, 1, 1, 1, 100, 1, 1, 100, 1]\n",
    "输出: 6\n",
    "解释: 最低花费方式是从cost[0]开始，逐个经过那些1，跳过cost[3]，一共花费6。\n",
    "```\n",
    "\n",
    "**注意：**\n",
    "\n",
    "1. `cost` 的长度将会在 `[2, 1000]`。\n",
    "2. 每一个 `cost[i]` 将会是一个Integer类型，范围为 `[0, 999]`。"
   ]
  },
  {
   "cell_type": "markdown",
   "metadata": {},
   "source": [
    "## 解题思路\n",
    "到达第i节台阶时最小的体力花费值，其实只与第i-1节台阶最小体力花费值和第i-2节台阶最小体力花费值有关，是他们与当前第i节台阶花费值之和的最小值。因此可以递推的方式只与两个数值有关，只需存储第i-1节台阶最小体力花费值和第i-2节台阶最小体力花费值即可，稍微占用内存就用就用字典来存储每一节台阶的最小体力花费值，注意递推的方式是从下往上进行计算的。而递归的方式通过从上往下进行分解进行计算。"
   ]
  },
  {
   "cell_type": "markdown",
   "metadata": {},
   "source": [
    "## 递归求解"
   ]
  },
  {
   "cell_type": "code",
   "execution_count": 2,
   "metadata": {},
   "outputs": [],
   "source": [
    "class Solution(object):\n",
    "    def minCostClimbingStairs(self, cost):\n",
    "        \"\"\"\n",
    "        :type cost: List[int]\n",
    "        :rtype: int\n",
    "        \"\"\"\n",
    "        return self.everyCost(len(cost), cost)\n",
    "        \n",
    "    def everyCost(self, index, cost):\n",
    "        if index < 0:\n",
    "            return 0\n",
    "        if index == 0 or index == 1:\n",
    "            return 0\n",
    "        else:\n",
    "            result = min(cost[index-1]+self.everyCost(index-1,cost), cost[index-2]+self.everyCost(index-2,cost))\n",
    "            return result"
   ]
  },
  {
   "cell_type": "markdown",
   "metadata": {},
   "source": [
    "## 递推求解"
   ]
  },
  {
   "cell_type": "code",
   "execution_count": 1,
   "metadata": {},
   "outputs": [],
   "source": [
    "class Solution(object):\n",
    "    def minCostClimbingStairs(self, cost):\n",
    "        \"\"\"\n",
    "        :type cost: List[int]\n",
    "        :rtype: int\n",
    "        \"\"\"\n",
    "        result = 0\n",
    "        prepre = cost[0]\n",
    "        pre = cost[1]\n",
    "        for i in range(2, len(cost)):\n",
    "            result = min(pre+cost[i], prepre+cost[i])\n",
    "            pre, prepre = result, pre\n",
    "        return min(pre, prepre)"
   ]
  },
  {
   "cell_type": "markdown",
   "metadata": {},
   "source": [
    "## 递推求解进阶"
   ]
  },
  {
   "cell_type": "code",
   "execution_count": 3,
   "metadata": {},
   "outputs": [],
   "source": [
    "class Solution(object):\n",
    "    def minCostClimbingStairs(self, cost):\n",
    "        \"\"\"\n",
    "        :type cost: List[int]\n",
    "        :rtype: int\n",
    "        \"\"\"\n",
    "        dic = dict()\n",
    "        dic[0] = cost[0]\n",
    "        dic[1] = cost[1]\n",
    "        for i in range(2, len(cost)):\n",
    "            dic[i] = min(dic[i-1]+cost[i], dic[i-2]+cost[i])\n",
    "        return min(dic[len(cost)-1], dic[len(cost)-2])"
   ]
  },
  {
   "cell_type": "code",
   "execution_count": null,
   "metadata": {},
   "outputs": [],
   "source": []
  }
 ],
 "metadata": {
  "kernelspec": {
   "display_name": "Python 3",
   "language": "python",
   "name": "python3"
  },
  "language_info": {
   "codemirror_mode": {
    "name": "ipython",
    "version": 3
   },
   "file_extension": ".py",
   "mimetype": "text/x-python",
   "name": "python",
   "nbconvert_exporter": "python",
   "pygments_lexer": "ipython3",
   "version": "3.6.1"
  }
 },
 "nbformat": 4,
 "nbformat_minor": 2
}
