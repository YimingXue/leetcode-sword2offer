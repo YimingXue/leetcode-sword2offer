{
 "cells": [
  {
   "cell_type": "markdown",
   "metadata": {},
   "source": [
    "# 二分查找"
   ]
  },
  {
   "cell_type": "code",
   "execution_count": 6,
   "metadata": {},
   "outputs": [],
   "source": [
    "class Solution(object):\n",
    "    def BinaryLocate(self, nums, target):\n",
    "        \"\"\"\n",
    "        :type nums: List[int]\n",
    "        :type target: int\n",
    "        :rtype: int\n",
    "        \"\"\"\n",
    "        low = 0\n",
    "        high = len(nums) - 1\n",
    "        while low <= high:\n",
    "            mid = (low + high) / 2\n",
    "            if nums[mid] == target:\n",
    "                return mid\n",
    "            elif nums[mid] > target:\n",
    "                high = mid - 1\n",
    "            elif nums[mid] < target:\n",
    "                low = mid + 1\n",
    "        return -1"
   ]
  },
  {
   "cell_type": "code",
   "execution_count": 7,
   "metadata": {},
   "outputs": [
    {
     "name": "stdout",
     "output_type": "stream",
     "text": [
      "7\n"
     ]
    }
   ],
   "source": [
    "if __name__ == '__main__':\n",
    "    nums = [1,3,4,6,7,9,12,15]\n",
    "    target = 15\n",
    "    print Solution().BinaryLocate(nums, target)"
   ]
  },
  {
   "cell_type": "markdown",
   "metadata": {},
   "source": [
    "### 重点\n",
    "- 值得注意的是二分查找针对的是有序数组\n",
    "- 二分查找比较容易实现，通过比较中心值与target之间的大小，一步步缩小范围"
   ]
  },
  {
   "cell_type": "code",
   "execution_count": 10,
   "metadata": {},
   "outputs": [
    {
     "name": "stdout",
     "output_type": "stream",
     "text": [
      "7\n"
     ]
    }
   ],
   "source": [
    "nums = [1,3,4,6,7,9,12,15]\n",
    "target = 15\n",
    "low = 0\n",
    "high = len(nums)-1\n",
    "while low <= high:\n",
    "    mid = (low + high) / 2\n",
    "    if nums[mid] == target:\n",
    "        print mid\n",
    "        break\n",
    "    elif nums[mid] < target:\n",
    "        low = mid + 1\n",
    "    elif nums[mid] > target:\n",
    "        high = mid - 1"
   ]
  },
  {
   "cell_type": "code",
   "execution_count": null,
   "metadata": {},
   "outputs": [],
   "source": []
  }
 ],
 "metadata": {
  "kernelspec": {
   "display_name": "Python 2",
   "language": "python",
   "name": "python2"
  },
  "language_info": {
   "codemirror_mode": {
    "name": "ipython",
    "version": 2
   },
   "file_extension": ".py",
   "mimetype": "text/x-python",
   "name": "python",
   "nbconvert_exporter": "python",
   "pygments_lexer": "ipython2",
   "version": "2.7.12"
  }
 },
 "nbformat": 4,
 "nbformat_minor": 2
}
