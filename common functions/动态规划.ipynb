{
 "cells": [
  {
   "cell_type": "markdown",
   "metadata": {},
   "source": [
    "### 斐波那切数列"
   ]
  },
  {
   "cell_type": "code",
   "execution_count": 19,
   "metadata": {},
   "outputs": [],
   "source": [
    "# 递归方法\n",
    "def fib_recursion(n):\n",
    "    if n <= 0:\n",
    "        return 0\n",
    "    if n == 1:\n",
    "        return 1\n",
    "    return fib_reversion(n-1) + fib_reversion(n-2)\n",
    "\n",
    "# 自顶向下的备忘录法\n",
    "def fib_upToDown(n):\n",
    "    if n <= 0:\n",
    "        return 0\n",
    "    if n == 1:\n",
    "        return 1\n",
    "    value = [-1 for i in range(n+1)]\n",
    "    value[0], value[1] = 0, 1\n",
    "    return _fib(n, value)\n",
    "\n",
    "def _fib(n, value):\n",
    "    if value[n] != -1:\n",
    "        return value[n]\n",
    "    value[n] = _fib(n-1, value) + _fib(n-2, value)\n",
    "    return value[n]\n",
    "\n",
    "# 自底向上\n",
    "def fib_downToUp(n):\n",
    "    if n <= 0:\n",
    "        return 0\n",
    "    if n == 1:\n",
    "        return 1\n",
    "    a = 0\n",
    "    b = 1\n",
    "    for i in range(2, n+1):\n",
    "        result = a + b\n",
    "        a, b = b, result\n",
    "    return result"
   ]
  },
  {
   "cell_type": "code",
   "execution_count": 20,
   "metadata": {},
   "outputs": [
    {
     "name": "stdout",
     "output_type": "stream",
     "text": [
      "0 0 0\n",
      "1 1 1\n",
      "1 1 1\n",
      "2 2 2\n",
      "3 3 3\n",
      "5 5 5\n",
      "8 8 8\n",
      "13 13 13\n",
      "21 21 21\n",
      "34 34 34\n"
     ]
    }
   ],
   "source": [
    "for i in range(10):\n",
    "    print(fib_recursion(i), fib_upToDown(i), fib_downToUp(i))"
   ]
  },
  {
   "cell_type": "markdown",
   "metadata": {},
   "source": [
    "### 钢条切割"
   ]
  },
  {
   "cell_type": "code",
   "execution_count": 22,
   "metadata": {},
   "outputs": [],
   "source": [
    "# 递归\n",
    "def cut_recursion(value, n):\n",
    "    if n <= 0:\n",
    "        return 0\n",
    "    result = -1\n",
    "    for i in range(1, n+1):\n",
    "        result = max(result, value[i-1]+cut_recursion(value, n-i))\n",
    "    return result"
   ]
  },
  {
   "cell_type": "code",
   "execution_count": null,
   "metadata": {},
   "outputs": [],
   "source": []
  },
  {
   "cell_type": "code",
   "execution_count": null,
   "metadata": {},
   "outputs": [],
   "source": []
  },
  {
   "cell_type": "code",
   "execution_count": 23,
   "metadata": {},
   "outputs": [],
   "source": [
    "string = 'xymm'"
   ]
  },
  {
   "cell_type": "code",
   "execution_count": 27,
   "metadata": {},
   "outputs": [
    {
     "data": {
      "text/plain": [
       "['y', 'm', 'x']"
      ]
     },
     "execution_count": 27,
     "metadata": {},
     "output_type": "execute_result"
    }
   ],
   "source": [
    "list(set(string))"
   ]
  },
  {
   "cell_type": "code",
   "execution_count": 29,
   "metadata": {},
   "outputs": [
    {
     "data": {
      "text/plain": [
       "2"
      ]
     },
     "execution_count": 29,
     "metadata": {},
     "output_type": "execute_result"
    }
   ],
   "source": [
    "len(string[0:2])"
   ]
  },
  {
   "cell_type": "code",
   "execution_count": 30,
   "metadata": {},
   "outputs": [
    {
     "data": {
      "text/plain": [
       "'x'"
      ]
     },
     "execution_count": 30,
     "metadata": {},
     "output_type": "execute_result"
    }
   ],
   "source": [
    "string[0]"
   ]
  },
  {
   "cell_type": "code",
   "execution_count": null,
   "metadata": {},
   "outputs": [],
   "source": []
  }
 ],
 "metadata": {
  "kernelspec": {
   "display_name": "Python 3",
   "language": "python",
   "name": "python3"
  },
  "language_info": {
   "codemirror_mode": {
    "name": "ipython",
    "version": 3
   },
   "file_extension": ".py",
   "mimetype": "text/x-python",
   "name": "python",
   "nbconvert_exporter": "python",
   "pygments_lexer": "ipython3",
   "version": "3.6.1"
  }
 },
 "nbformat": 4,
 "nbformat_minor": 2
}
