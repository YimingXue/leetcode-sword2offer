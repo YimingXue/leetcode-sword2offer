{
 "cells": [
  {
   "cell_type": "markdown",
   "metadata": {},
   "source": [
    "### 使用heapq模块实现topK问题"
   ]
  },
  {
   "cell_type": "code",
   "execution_count": 28,
   "metadata": {},
   "outputs": [
    {
     "name": "stdout",
     "output_type": "stream",
     "text": [
      "[3, 2, 1]\n",
      "[6, 4, 5]\n"
     ]
    }
   ],
   "source": [
    "import heapq\n",
    "def topK_smallest(alist, k):\n",
    "    if alist == None or len(alist) < k or len(alist) <= 0 or k <= 0:\n",
    "        return []\n",
    "    result = list()\n",
    "    for item in alist:\n",
    "        if len(result) < k:\n",
    "            result.append(item)\n",
    "        else:\n",
    "            result = heapq.nlargest(k, result)\n",
    "            if item > result[0]:\n",
    "                continue\n",
    "            else:\n",
    "                result[0] = item\n",
    "    return result\n",
    "\n",
    "def topK_largest(alist, k):\n",
    "    if alist == None or len(alist) < k or len(alist) <= 0 or k <= 0:\n",
    "        return []\n",
    "    result = list()\n",
    "    for item in alist:\n",
    "        if len(result) < k:\n",
    "            result.append(item)\n",
    "        else:\n",
    "            result = heapq.nsmallest(k, result)\n",
    "            if item < result[0]:\n",
    "                continue\n",
    "            else:\n",
    "                result[0] = item\n",
    "    return result\n",
    "\n",
    "alist = [1,2,3,4,5,6]\n",
    "k = 3\n",
    "print(topK_smallest(alist, k))\n",
    "print(topK_largest(alist, k))"
   ]
  },
  {
   "cell_type": "markdown",
   "metadata": {},
   "source": [
    "### 使用heapq模块实现堆排序"
   ]
  },
  {
   "cell_type": "code",
   "execution_count": 20,
   "metadata": {},
   "outputs": [
    {
     "name": "stdout",
     "output_type": "stream",
     "text": [
      "[1, 3, 4, 5, 6]\n"
     ]
    }
   ],
   "source": [
    "import heapq\n",
    "heap = []\n",
    "for item in [1,6,3,4,5]:\n",
    "    heapq.heappush(heap, item)\n",
    "result = [heapq.heappop(heap) for i in range(len(heap))]\n",
    "print(result)"
   ]
  },
  {
   "cell_type": "code",
   "execution_count": 27,
   "metadata": {},
   "outputs": [
    {
     "name": "stdout",
     "output_type": "stream",
     "text": [
      "[1, 2, 3, 4, 5, 6]\n"
     ]
    }
   ],
   "source": [
    "alist = [1,5,6,4,3,2]\n",
    "heapq.heapify(alist)\n",
    "heap = []\n",
    "while alist:\n",
    "    heap.append(heapq.heappop(alist))\n",
    "alist[:] = heap\n",
    "print(alist)"
   ]
  },
  {
   "cell_type": "markdown",
   "metadata": {},
   "source": [
    "### 手撸最大堆"
   ]
  },
  {
   "cell_type": "code",
   "execution_count": 46,
   "metadata": {},
   "outputs": [
    {
     "data": {
      "text/plain": [
       "[6, 5, 2, 3, 4, 1]"
      ]
     },
     "execution_count": 46,
     "metadata": {},
     "output_type": "execute_result"
    }
   ],
   "source": [
    "from collections import deque\n",
    "\n",
    "def heapSort(alist):\n",
    "    aheap = deque(alist)\n",
    "    aheap.appendleft(0)\n",
    "    len_heap = len(aheap) - 1\n",
    "    first_sort_count = len_heap // 2\n",
    "    \n",
    "    for i in range(first_sort_count):\n",
    "        heap_adjust(aheap, first_sort_count-i, len_heap)\n",
    "    \n",
    "#     for i in range(len_heap-1):\n",
    "#         sweap_params(aheap, 1, len_heap-i)\n",
    "#         heap_adjust(aheap, 1, len_heap-i-1)\n",
    "    \n",
    "    return [aheap[i] for i in range(1, len(aheap))]\n",
    "\n",
    "def heap_adjust(aheap, start, end):\n",
    "    temp = aheap[start]\n",
    "    i = start\n",
    "    j = 2 * i\n",
    "    while j <= end:\n",
    "        if j < end and aheap[j] < aheap[j+1]:\n",
    "            j += 1\n",
    "        if aheap[j] > temp:\n",
    "            aheap[i] = aheap[j]\n",
    "            i = j\n",
    "            j = 2 * i\n",
    "        else:\n",
    "            break\n",
    "    aheap[i] = temp\n",
    "    return aheap\n",
    "\n",
    "def sweap_params(aheap, start, end):\n",
    "    aheap[start], aheap[end] = aheap[end], aheap[start]\n",
    "    return aheap\n",
    "\n",
    "alist = [1,3,2,5,4,6]\n",
    "heapSort(alist)"
   ]
  },
  {
   "cell_type": "markdown",
   "metadata": {},
   "source": [
    "### 手撸最小堆"
   ]
  },
  {
   "cell_type": "code",
   "execution_count": 55,
   "metadata": {},
   "outputs": [
    {
     "data": {
      "text/plain": [
       "[1, 3, 2, 5, 4, 6]"
      ]
     },
     "execution_count": 55,
     "metadata": {},
     "output_type": "execute_result"
    }
   ],
   "source": [
    "from collections import deque\n",
    "\n",
    "def heapSort(alist):\n",
    "    aheap = deque(alist)\n",
    "    aheap.appendleft(0)\n",
    "    len_heap = len(aheap) - 1\n",
    "    first_sort_count = len_heap // 2\n",
    "    \n",
    "    for i in range(first_sort_count):\n",
    "        heap_adjust(aheap, first_sort_count-i, len_heap)\n",
    "    \n",
    "#     for i in range(len_heap-1):\n",
    "#         sweap_params(aheap, 1, len_heap-i)\n",
    "#         heap_adjust(aheap, 1, len_heap-i-1)\n",
    "    \n",
    "    return [aheap[i] for i in range(1, len(aheap))]\n",
    "\n",
    "def heap_adjust(aheap, start, end):\n",
    "    temp = aheap[start]\n",
    "    i = start\n",
    "    j = 2 * i\n",
    "    while j <= end:\n",
    "        if j < end and aheap[j] > aheap[j+1]:\n",
    "            j += 1\n",
    "        if aheap[j] < temp:\n",
    "            aheap[i] = aheap[j]\n",
    "            i = j\n",
    "            j = 2 * i\n",
    "        else:\n",
    "            break\n",
    "    aheap[i] = temp\n",
    "    return aheap\n",
    "\n",
    "def sweap_params(aheap, start, end):\n",
    "    aheap[start], aheap[end] = aheap[end], aheap[start]\n",
    "    return aheap\n",
    "\n",
    "alist = [1,3,2,5,4,6]\n",
    "heapSort(alist)"
   ]
  },
  {
   "cell_type": "markdown",
   "metadata": {},
   "source": [
    "### TopK问题"
   ]
  },
  {
   "cell_type": "code",
   "execution_count": 53,
   "metadata": {},
   "outputs": [
    {
     "data": {
      "text/plain": [
       "[3, 2, 1]"
      ]
     },
     "execution_count": 53,
     "metadata": {},
     "output_type": "execute_result"
    }
   ],
   "source": [
    "from collections import deque\n",
    "\n",
    "def TopK_largest(alist, k):\n",
    "    aheap = deque(alist[:k])\n",
    "    aheap.appendleft(0)\n",
    "    len_aheap = len(aheap) - 1\n",
    "    first_sort_count = len_aheap // 2\n",
    "    # 构建k个数值的最小堆\n",
    "    for i in range(first_sort_count):\n",
    "        heap_adjust(aheap, first_sort_count-i, len_aheap)\n",
    "    for item in alist[k:]:\n",
    "        if item > aheap[1]:\n",
    "            aheap[1] = item\n",
    "            heap_adjust(aheap, 1, len_aheap)\n",
    "        else:\n",
    "            continue\n",
    "    for i in range(len_aheap-1):\n",
    "        sweap_params(aheap, 1, len_aheap-i)\n",
    "        heap_adjust(heap, 1, len_aheap-i-1)\n",
    "    return [aheap[i] for i in range(1, len(aheap))]\n",
    "    \n",
    "\n",
    "def heap_adjust(aheap, start, end):\n",
    "    temp = aheap[start]\n",
    "    i = start\n",
    "    j = 2 * i\n",
    "    while j <= end:\n",
    "        if j < end and aheap[j] > aheap[j+1]:\n",
    "            j += 1\n",
    "        if aheap[j] < temp:\n",
    "            aheap[i] = aheap[j]\n",
    "            i = j\n",
    "            j = 2 * i\n",
    "        else:\n",
    "            break\n",
    "    aheap[i] = temp\n",
    "    return aheap\n",
    "\n",
    "def sweap_params(aheap, start, end):\n",
    "    aheap[start], aheap[end] = aheap[end], aheap[start]\n",
    "    return aheap\n",
    "\n",
    "alist = [1,3,2,5,4,6,7,8,9,10]\n",
    "k = 3\n",
    "TopK_largest(alist, k)"
   ]
  },
  {
   "cell_type": "code",
   "execution_count": null,
   "metadata": {},
   "outputs": [],
   "source": []
  }
 ],
 "metadata": {
  "kernelspec": {
   "display_name": "Python 3",
   "language": "python",
   "name": "python3"
  },
  "language_info": {
   "codemirror_mode": {
    "name": "ipython",
    "version": 3
   },
   "file_extension": ".py",
   "mimetype": "text/x-python",
   "name": "python",
   "nbconvert_exporter": "python",
   "pygments_lexer": "ipython3",
   "version": "3.6.1"
  }
 },
 "nbformat": 4,
 "nbformat_minor": 2
}
