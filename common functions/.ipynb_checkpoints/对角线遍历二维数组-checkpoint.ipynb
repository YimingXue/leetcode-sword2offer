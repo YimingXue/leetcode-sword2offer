{
 "cells": [
  {
   "cell_type": "markdown",
   "metadata": {},
   "source": [
    "# 对角线遍历二维数组\n",
    "### 1. 依次从右上角到左下角遍历二维数组"
   ]
  },
  {
   "cell_type": "code",
   "execution_count": 8,
   "metadata": {},
   "outputs": [
    {
     "name": "stdout",
     "output_type": "stream",
     "text": [
      "[0, 0, 1, 0, 1, 2, 1, 2, 3, 2, 3, 3]\n",
      "[0, 1, 0, 2, 1, 0, 2, 1, 0, 2, 1, 2]\n"
     ]
    }
   ],
   "source": [
    "arrayA = [[1,2,3],[4,5,6],[7,8,9],[10,11,12]]\n",
    "m = len(arrayA)\n",
    "n = len(arrayA[0])\n",
    "hindex = list()\n",
    "vindex = list()\n",
    "for i in range(m+n-1):\n",
    "    for j in range(i+1):\n",
    "        k = i-j\n",
    "        if j<m and k<n and k>=0:\n",
    "            hindex.append(j)\n",
    "            vindex.append(k)\n",
    "print hindex\n",
    "print vindex\n",
    "# for i in range(len(hindex)):\n",
    "#     print hindex[i], vindex[i]"
   ]
  },
  {
   "cell_type": "markdown",
   "metadata": {},
   "source": [
    "### 2. 依次从左下角到右上角遍历二维数组"
   ]
  },
  {
   "cell_type": "code",
   "execution_count": 9,
   "metadata": {},
   "outputs": [
    {
     "name": "stdout",
     "output_type": "stream",
     "text": [
      "[0, 1, 0, 2, 1, 0, 3, 2, 1, 3, 2, 3]\n",
      "[0, 0, 1, 0, 1, 2, 0, 1, 2, 1, 2, 2]\n"
     ]
    }
   ],
   "source": [
    "arrayA = [[1,2,3],[4,5,6],[7,8,9],[10,11,12]]\n",
    "m = len(arrayA)\n",
    "n = len(arrayA[0])\n",
    "hindex = list()\n",
    "vindex = list()\n",
    "for i in range(m+n-1):\n",
    "    for j in range(i+1,-1,-1):\n",
    "        k = i-j\n",
    "        if j<m and k<n and k>=0:\n",
    "            hindex.append(j)\n",
    "            vindex.append(k)\n",
    "print hindex\n",
    "print vindex\n",
    "# for i in range(len(hindex)):\n",
    "#     print hindex[i], vindex[i]"
   ]
  },
  {
   "cell_type": "markdown",
   "metadata": {},
   "source": [
    "### 3. 蛇形遍历"
   ]
  },
  {
   "cell_type": "code",
   "execution_count": 10,
   "metadata": {},
   "outputs": [
    {
     "name": "stdout",
     "output_type": "stream",
     "text": [
      "[0, 0, 1, 2, 1, 0, 1, 2, 3, 3, 2, 3]\n",
      "[0, 1, 0, 0, 1, 2, 2, 1, 0, 1, 2, 2]\n"
     ]
    }
   ],
   "source": [
    "arrayA = [[1,2,3],[4,5,6],[7,8,9],[10,11,12]]\n",
    "m = len(arrayA)\n",
    "n = len(arrayA[0])\n",
    "hindex = list()\n",
    "vindex = list()\n",
    "flag = 0\n",
    "for i in range(m+n-1):\n",
    "    if flag%2 == 0:\n",
    "        for j in range(i+1,-1,-1):\n",
    "            k = i-j\n",
    "            if j<m and k<n and k>=0:\n",
    "                hindex.append(j)\n",
    "                vindex.append(k)\n",
    "        flag += 1\n",
    "        continue\n",
    "    if flag%2 == 1:\n",
    "        for j in range(i+1):\n",
    "            k = i-j\n",
    "            if j<m and k<n and k>=0:\n",
    "                hindex.append(j)\n",
    "                vindex.append(k)\n",
    "        flag += 1\n",
    "        continue\n",
    "print hindex\n",
    "print vindex\n",
    "# for i in range(len(hindex)):\n",
    "#     print hindex[i], vindex[i]"
   ]
  },
  {
   "cell_type": "markdown",
   "metadata": {},
   "source": [
    "### 3. 依次从左上角到右下角遍历二维数组"
   ]
  },
  {
   "cell_type": "code",
   "execution_count": 13,
   "metadata": {},
   "outputs": [
    {
     "name": "stdout",
     "output_type": "stream",
     "text": [
      "[0, 0, 1, 0, 1, 2, 1, 2, 3, 2, 3, 3]\n",
      "[2, 1, 2, 0, 1, 2, 0, 1, 2, 0, 1, 0]\n"
     ]
    }
   ],
   "source": [
    "arrayA = [[1,2,3],[4,5,6],[7,8,9],[10,11,12]]\n",
    "m = len(arrayA)\n",
    "n = len(arrayA[0])\n",
    "hindex = list()\n",
    "vindex = list()\n",
    "for i in range(m+n-1):\n",
    "    for j in range(i+1):\n",
    "        k = i-j\n",
    "        if j<m and k<n and k>=0:\n",
    "            hindex.append(j)\n",
    "            vindex.append(k)\n",
    "vindex.reverse()\n",
    "print hindex\n",
    "print vindex\n",
    "# for i in range(len(hindex)):\n",
    "#     print hindex[i], vindex[i]"
   ]
  },
  {
   "cell_type": "code",
   "execution_count": null,
   "metadata": {},
   "outputs": [],
   "source": []
  }
 ],
 "metadata": {
  "kernelspec": {
   "display_name": "Python 2",
   "language": "python",
   "name": "python2"
  },
  "language_info": {
   "codemirror_mode": {
    "name": "ipython",
    "version": 2
   },
   "file_extension": ".py",
   "mimetype": "text/x-python",
   "name": "python",
   "nbconvert_exporter": "python",
   "pygments_lexer": "ipython2",
   "version": "2.7.12"
  }
 },
 "nbformat": 4,
 "nbformat_minor": 2
}
