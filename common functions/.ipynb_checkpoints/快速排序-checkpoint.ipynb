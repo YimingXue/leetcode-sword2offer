{
 "cells": [
  {
   "cell_type": "markdown",
   "metadata": {},
   "source": [
    "# 快速排序\n",
    "快速排序基本思想过程：通过一趟排序将要排序的数据分割成独立的两部分，其中一部分的所有数据都比另一部分的所有数据都要小，然后再按照此方法对这两部分数据分别进行快速排序，整个排序过程可以递归进行，以此达到整个数据变成有序序列。"
   ]
  },
  {
   "cell_type": "code",
   "execution_count": 15,
   "metadata": {},
   "outputs": [],
   "source": [
    "class Solution(object):\n",
    "    def QuickSort(self, nums, left, right):\n",
    "        \"\"\"\n",
    "        :type nums: List[int]\n",
    "            left: int\n",
    "            right: int\n",
    "        :rtype: List[int]\n",
    "        \"\"\"\n",
    "        if left < right:\n",
    "            p = self.Parttion(nums, left, right)\n",
    "            self.QuickSort(nums, left, p-1)\n",
    "            self.QuickSort(nums, p+1, right)\n",
    "        return nums\n",
    "    \n",
    "    def Parttion(self, nums, left, right):\n",
    "        \"\"\"\n",
    "        :type nums: List[int]\n",
    "            left: int\n",
    "            right: int\n",
    "        :rtype: int\n",
    "        \"\"\"\n",
    "        key = nums[left]\n",
    "        low = left\n",
    "        high = right\n",
    "        while low < high:\n",
    "            while low < high and nums[high] <= key:\n",
    "                high -= 1\n",
    "            nums[low] = nums[high]\n",
    "            while low < high and nums[low] >= key:\n",
    "                low += 1\n",
    "            nums[high] = nums[low]\n",
    "            nums[low] = key\n",
    "        return low"
   ]
  },
  {
   "cell_type": "code",
   "execution_count": 16,
   "metadata": {},
   "outputs": [
    {
     "data": {
      "text/plain": [
       "[56, 32, 12, 9, 8, 6, 4, 2, 1]"
      ]
     },
     "execution_count": 16,
     "metadata": {},
     "output_type": "execute_result"
    }
   ],
   "source": [
    "nums = [2,4,6,8,9,1,12,56,32]\n",
    "Solution().QuickSort(nums, 0, len(nums)-1)"
   ]
  },
  {
   "cell_type": "code",
   "execution_count": 17,
   "metadata": {},
   "outputs": [],
   "source": [
    "def parttion(nums, left, right):\n",
    "    key = nums[left]\n",
    "    low = left\n",
    "    high = right\n",
    "    while low < high:\n",
    "        while low < high and nums[high] >= key:\n",
    "            high -= 1\n",
    "        nums[low] = nums[high]\n",
    "        while low < high and nums[low] <= key:\n",
    "            low += 1\n",
    "        nums[high] = nums[low]\n",
    "        nums[low] = key\n",
    "    return low\n",
    "\n",
    "def quicksort(nums, left, right):\n",
    "    if left < right:\n",
    "        p = parttion(nums, left, right)\n",
    "        quicksort(nums, left, p-1)\n",
    "        quicksort(nums, p+1, right)\n",
    "    return nums"
   ]
  },
  {
   "cell_type": "code",
   "execution_count": 18,
   "metadata": {},
   "outputs": [
    {
     "data": {
      "text/plain": [
       "[1, 2, 4, 6, 8, 9, 12, 32, 56]"
      ]
     },
     "execution_count": 18,
     "metadata": {},
     "output_type": "execute_result"
    }
   ],
   "source": [
    "nums = [2,4,6,8,9,1,12,56,32]\n",
    "quicksort(nums, 0, len(nums)-1)"
   ]
  },
  {
   "cell_type": "code",
   "execution_count": null,
   "metadata": {},
   "outputs": [],
   "source": []
  }
 ],
 "metadata": {
  "kernelspec": {
   "display_name": "Python 2",
   "language": "python",
   "name": "python2"
  },
  "language_info": {
   "codemirror_mode": {
    "name": "ipython",
    "version": 2
   },
   "file_extension": ".py",
   "mimetype": "text/x-python",
   "name": "python",
   "nbconvert_exporter": "python",
   "pygments_lexer": "ipython2",
   "version": "2.7.12"
  }
 },
 "nbformat": 4,
 "nbformat_minor": 2
}
